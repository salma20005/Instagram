{
 "cells": [
  {
   "metadata": {},
   "cell_type": "markdown",
   "source": "# Instagram Project",
   "id": "2090a5011476c043"
  },
  {
   "metadata": {},
   "cell_type": "markdown",
   "source": [
    "### Analysis for Instagram Data project\n",
    "- in this Project, I will work on Instagram Dataset which has some Instagram properties"
   ],
   "id": "6a98faf9f9074ecf"
  },
  {
   "metadata": {},
   "cell_type": "markdown",
   "source": [
    "### Instagram Dataset Field Description\n",
    "- Below is description of some properties in the dataset"
   ],
   "id": "2bc9dabd5cce5f29"
  },
  {
   "metadata": {},
   "cell_type": "markdown",
   "source": [
    "#### Core Fields\n",
    "- **Impressions** : Numeric value that represents the number of impressions for each post"
   ],
   "id": "9ffb88f66f139091"
  },
  {
   "metadata": {},
   "cell_type": "markdown",
   "source": [
    "### Questions to be answered in the dataset\n",
    "1. Which posts received the most likes?\n",
    "2. Which posts received the most saves and shares?\n",
    "3. Which posts generated the most profile visits and follows?\n",
    "4. What is the correlation between likes and other metrics(impressions, saves, comments, follows)?\n",
    "5. Do posts with higher impressions always get more likes?\n",
    "6. Do more profile visits translate into more follows?\n",
    "7. Which source (From Home, From Hashtags, From Explore, From Other) contributes the most impressions overall?\n",
    "8. For each post, which source ratio is the highest?\n",
    "9. Do posts with higher Explore_ratio receive more likes?\n",
    "10. Do posts with higher Hashtag_ratio perform better than those with lower?\n",
    "11. Which posts have the highest engagement rate?\n",
    "12. Do posts with more saves also receive more likes?\n",
    "13. What is the save-to-like ratio across posts? Which posts are most valuable?\n",
    "14. Do more shares lead to more profile visits and follows?\n",
    "15. Does caption length (short vs long) affect likes?\n",
    "16. Does impressions affect engagement rate?\n",
    "17. Can we predict likes based on impressions, saves, shares, profile visits?"
   ],
   "id": "3a1f9ec3018b290a"
  },
  {
   "metadata": {
    "ExecuteTime": {
     "end_time": "2025-09-09T16:06:07.202339Z",
     "start_time": "2025-09-09T16:06:07.150718Z"
    }
   },
   "cell_type": "code",
   "source": [
    "# load needed Modules\n",
    "import pandas as pd\n",
    "# load dataset into a dataframe\n",
    "df = pd.read_csv('Instagram data.csv',encoding = 'latin1')"
   ],
   "id": "652b8f63905b7db2",
   "outputs": [],
   "execution_count": 1
  },
  {
   "metadata": {
    "ExecuteTime": {
     "end_time": "2025-09-09T16:06:12.085343Z",
     "start_time": "2025-09-09T16:06:12.003361Z"
    }
   },
   "cell_type": "code",
   "source": [
    "# display first rows\n",
    "df.head()"
   ],
   "id": "ec3af199a2f7ead3",
   "outputs": [
    {
     "data": {
      "text/plain": [
       "   Impressions  From Home  From Hashtags  From Explore  From Other  Saves  \\\n",
       "0         3920       2586           1028           619          56     98   \n",
       "1         5394       2727           1838          1174          78    194   \n",
       "2         4021       2085           1188             0         533     41   \n",
       "3         4528       2700            621           932          73    172   \n",
       "4         2518       1704            255           279          37     96   \n",
       "\n",
       "   Comments  Shares  Likes  Profile Visits  Follows  \\\n",
       "0         9       5    162              35        2   \n",
       "1         7      14    224              48       10   \n",
       "2        11       1    131              62       12   \n",
       "3        10       7    213              23        8   \n",
       "4         5       4    123               8        0   \n",
       "\n",
       "                                             Caption  \\\n",
       "0  Here are some of the most important data visua...   \n",
       "1  Here are some of the best data science project...   \n",
       "2  Learn how to train a machine learning model an...   \n",
       "3  Heres how you can write a Python program to d...   \n",
       "4  Plotting annotations while visualizing your da...   \n",
       "\n",
       "                                            Hashtags  \n",
       "0  #finance #money #business #investing #investme...  \n",
       "1  #healthcare #health #covid #data #datascience ...  \n",
       "2  #data #datascience #dataanalysis #dataanalytic...  \n",
       "3  #python #pythonprogramming #pythonprojects #py...  \n",
       "4  #datavisualization #datascience #data #dataana...  "
      ],
      "text/html": [
       "<div>\n",
       "<style scoped>\n",
       "    .dataframe tbody tr th:only-of-type {\n",
       "        vertical-align: middle;\n",
       "    }\n",
       "\n",
       "    .dataframe tbody tr th {\n",
       "        vertical-align: top;\n",
       "    }\n",
       "\n",
       "    .dataframe thead th {\n",
       "        text-align: right;\n",
       "    }\n",
       "</style>\n",
       "<table border=\"1\" class=\"dataframe\">\n",
       "  <thead>\n",
       "    <tr style=\"text-align: right;\">\n",
       "      <th></th>\n",
       "      <th>Impressions</th>\n",
       "      <th>From Home</th>\n",
       "      <th>From Hashtags</th>\n",
       "      <th>From Explore</th>\n",
       "      <th>From Other</th>\n",
       "      <th>Saves</th>\n",
       "      <th>Comments</th>\n",
       "      <th>Shares</th>\n",
       "      <th>Likes</th>\n",
       "      <th>Profile Visits</th>\n",
       "      <th>Follows</th>\n",
       "      <th>Caption</th>\n",
       "      <th>Hashtags</th>\n",
       "    </tr>\n",
       "  </thead>\n",
       "  <tbody>\n",
       "    <tr>\n",
       "      <th>0</th>\n",
       "      <td>3920</td>\n",
       "      <td>2586</td>\n",
       "      <td>1028</td>\n",
       "      <td>619</td>\n",
       "      <td>56</td>\n",
       "      <td>98</td>\n",
       "      <td>9</td>\n",
       "      <td>5</td>\n",
       "      <td>162</td>\n",
       "      <td>35</td>\n",
       "      <td>2</td>\n",
       "      <td>Here are some of the most important data visua...</td>\n",
       "      <td>#finance #money #business #investing #investme...</td>\n",
       "    </tr>\n",
       "    <tr>\n",
       "      <th>1</th>\n",
       "      <td>5394</td>\n",
       "      <td>2727</td>\n",
       "      <td>1838</td>\n",
       "      <td>1174</td>\n",
       "      <td>78</td>\n",
       "      <td>194</td>\n",
       "      <td>7</td>\n",
       "      <td>14</td>\n",
       "      <td>224</td>\n",
       "      <td>48</td>\n",
       "      <td>10</td>\n",
       "      <td>Here are some of the best data science project...</td>\n",
       "      <td>#healthcare #health #covid #data #datascience ...</td>\n",
       "    </tr>\n",
       "    <tr>\n",
       "      <th>2</th>\n",
       "      <td>4021</td>\n",
       "      <td>2085</td>\n",
       "      <td>1188</td>\n",
       "      <td>0</td>\n",
       "      <td>533</td>\n",
       "      <td>41</td>\n",
       "      <td>11</td>\n",
       "      <td>1</td>\n",
       "      <td>131</td>\n",
       "      <td>62</td>\n",
       "      <td>12</td>\n",
       "      <td>Learn how to train a machine learning model an...</td>\n",
       "      <td>#data #datascience #dataanalysis #dataanalytic...</td>\n",
       "    </tr>\n",
       "    <tr>\n",
       "      <th>3</th>\n",
       "      <td>4528</td>\n",
       "      <td>2700</td>\n",
       "      <td>621</td>\n",
       "      <td>932</td>\n",
       "      <td>73</td>\n",
       "      <td>172</td>\n",
       "      <td>10</td>\n",
       "      <td>7</td>\n",
       "      <td>213</td>\n",
       "      <td>23</td>\n",
       "      <td>8</td>\n",
       "      <td>Heres how you can write a Python program to d...</td>\n",
       "      <td>#python #pythonprogramming #pythonprojects #py...</td>\n",
       "    </tr>\n",
       "    <tr>\n",
       "      <th>4</th>\n",
       "      <td>2518</td>\n",
       "      <td>1704</td>\n",
       "      <td>255</td>\n",
       "      <td>279</td>\n",
       "      <td>37</td>\n",
       "      <td>96</td>\n",
       "      <td>5</td>\n",
       "      <td>4</td>\n",
       "      <td>123</td>\n",
       "      <td>8</td>\n",
       "      <td>0</td>\n",
       "      <td>Plotting annotations while visualizing your da...</td>\n",
       "      <td>#datavisualization #datascience #data #dataana...</td>\n",
       "    </tr>\n",
       "  </tbody>\n",
       "</table>\n",
       "</div>"
      ]
     },
     "execution_count": 2,
     "metadata": {},
     "output_type": "execute_result"
    }
   ],
   "execution_count": 2
  },
  {
   "metadata": {
    "ExecuteTime": {
     "end_time": "2025-09-09T16:06:14.921620Z",
     "start_time": "2025-09-09T16:06:14.896497Z"
    }
   },
   "cell_type": "code",
   "source": [
    "# check for dataframe shape\n",
    "df.shape"
   ],
   "id": "46300f4b9e755203",
   "outputs": [
    {
     "data": {
      "text/plain": [
       "(119, 13)"
      ]
     },
     "execution_count": 3,
     "metadata": {},
     "output_type": "execute_result"
    }
   ],
   "execution_count": 3
  },
  {
   "metadata": {},
   "cell_type": "markdown",
   "source": "- We found data has 113 posts(rows) with 13 features(columns)",
   "id": "8b3f9aa05aef4d5d"
  },
  {
   "metadata": {
    "ExecuteTime": {
     "end_time": "2025-09-09T16:06:15.320370Z",
     "start_time": "2025-09-09T16:06:15.154311Z"
    }
   },
   "cell_type": "code",
   "source": [
    "# check for data info\n",
    "df.info()"
   ],
   "id": "b9948bf73c65636",
   "outputs": [
    {
     "name": "stdout",
     "output_type": "stream",
     "text": [
      "<class 'pandas.core.frame.DataFrame'>\n",
      "RangeIndex: 119 entries, 0 to 118\n",
      "Data columns (total 13 columns):\n",
      " #   Column          Non-Null Count  Dtype \n",
      "---  ------          --------------  ----- \n",
      " 0   Impressions     119 non-null    int64 \n",
      " 1   From Home       119 non-null    int64 \n",
      " 2   From Hashtags   119 non-null    int64 \n",
      " 3   From Explore    119 non-null    int64 \n",
      " 4   From Other      119 non-null    int64 \n",
      " 5   Saves           119 non-null    int64 \n",
      " 6   Comments        119 non-null    int64 \n",
      " 7   Shares          119 non-null    int64 \n",
      " 8   Likes           119 non-null    int64 \n",
      " 9   Profile Visits  119 non-null    int64 \n",
      " 10  Follows         119 non-null    int64 \n",
      " 11  Caption         119 non-null    object\n",
      " 12  Hashtags        119 non-null    object\n",
      "dtypes: int64(11), object(2)\n",
      "memory usage: 12.2+ KB\n"
     ]
    }
   ],
   "execution_count": 4
  },
  {
   "metadata": {
    "ExecuteTime": {
     "end_time": "2025-09-09T16:06:16.175777Z",
     "start_time": "2025-09-09T16:06:16.162196Z"
    }
   },
   "cell_type": "code",
   "source": [
    "# list all data columns\n",
    "df.columns"
   ],
   "id": "22ce3e22a11fefd1",
   "outputs": [
    {
     "data": {
      "text/plain": [
       "Index(['Impressions', 'From Home', 'From Hashtags', 'From Explore',\n",
       "       'From Other', 'Saves', 'Comments', 'Shares', 'Likes', 'Profile Visits',\n",
       "       'Follows', 'Caption', 'Hashtags'],\n",
       "      dtype='object')"
      ]
     },
     "execution_count": 5,
     "metadata": {},
     "output_type": "execute_result"
    }
   ],
   "execution_count": 5
  },
  {
   "metadata": {
    "ExecuteTime": {
     "end_time": "2025-09-09T16:06:16.252216Z",
     "start_time": "2025-09-09T16:06:16.246915Z"
    }
   },
   "cell_type": "code",
   "source": [
    "# copy dataframe\n",
    "df_copy =  df.copy()"
   ],
   "id": "86453f36494d6c14",
   "outputs": [],
   "execution_count": 6
  },
  {
   "metadata": {},
   "cell_type": "markdown",
   "source": [
    "##### Feature Engineering\n",
    "- add column engagement rate to know how much people interact with a post relative to how many saw it.\n",
    "- add column caption length to know if longer or shorter caption get more likes\n",
    "- add column saves_to_like ratio to know save ratio\n",
    "- add column source ratios for(explore, home, hashtag, other) to know how much each of them within whole post\n",
    "- add column postId to be able to make unique number for each post"
   ],
   "id": "5a4e87535ed654b3"
  },
  {
   "metadata": {
    "ExecuteTime": {
     "end_time": "2025-09-09T16:06:16.313641Z",
     "start_time": "2025-09-09T16:06:16.290972Z"
    }
   },
   "cell_type": "code",
   "source": [
    "# check for duplicates\n",
    "df.duplicated().sum()"
   ],
   "id": "194b35a12c38712a",
   "outputs": [
    {
     "data": {
      "text/plain": [
       "np.int64(17)"
      ]
     },
     "execution_count": 7,
     "metadata": {},
     "output_type": "execute_result"
    }
   ],
   "execution_count": 7
  },
  {
   "metadata": {},
   "cell_type": "markdown",
   "source": "- there is 17 duplicated rows",
   "id": "fb0a5cbddbd35be2"
  },
  {
   "metadata": {
    "ExecuteTime": {
     "end_time": "2025-09-09T16:06:16.368628Z",
     "start_time": "2025-09-09T16:06:16.350201Z"
    }
   },
   "cell_type": "code",
   "source": [
    "# drop_duplicates\n",
    "df.drop_duplicates(inplace = True)\n",
    "# check\n",
    "df.duplicated().sum()"
   ],
   "id": "f46625946f27d947",
   "outputs": [
    {
     "data": {
      "text/plain": [
       "np.int64(0)"
      ]
     },
     "execution_count": 8,
     "metadata": {},
     "output_type": "execute_result"
    }
   ],
   "execution_count": 8
  },
  {
   "metadata": {
    "ExecuteTime": {
     "end_time": "2025-09-09T16:07:22.077663Z",
     "start_time": "2025-09-09T16:07:22.067811Z"
    }
   },
   "cell_type": "code",
   "source": [
    "# check null values\n",
    "df.isnull().sum()"
   ],
   "id": "9ec6d76f8fbc2160",
   "outputs": [
    {
     "data": {
      "text/plain": [
       "Impressions       0\n",
       "From Home         0\n",
       "From Hashtags     0\n",
       "From Explore      0\n",
       "From Other        0\n",
       "Saves             0\n",
       "Comments          0\n",
       "Shares            0\n",
       "Likes             0\n",
       "Profile Visits    0\n",
       "Follows           0\n",
       "Caption           0\n",
       "Hashtags          0\n",
       "dtype: int64"
      ]
     },
     "execution_count": 9,
     "metadata": {},
     "output_type": "execute_result"
    }
   ],
   "execution_count": 9
  },
  {
   "metadata": {
    "ExecuteTime": {
     "end_time": "2025-09-09T16:07:23.497037Z",
     "start_time": "2025-09-09T16:07:23.477770Z"
    }
   },
   "cell_type": "code",
   "source": [
    "df[\"Engagement_Rate\"] = ((df[\"Likes\"] + df[\"Comments\"] + df[\"Shares\"] + df[\"Saves\"]) / df[\"Impressions\"]) * 100\n",
    "df[\"Home_ratio\"] = (df[\"From Home\"] / df[\"Impressions\"]) * 10\n",
    "df[\"Explore_ratio\"] = (df[\"From Explore\"] / df[\"Impressions\"]) * 10\n",
    "df[\"Hashtag_ratio\"] = (df[\"From Hashtags\"] / df[\"Impressions\"]) * 10\n",
    "df[\"Other_ratio\"] = (df[\"From Other\"] / df[\"Impressions\"]) * 10\n",
    "df['saves_to_likes'] = (df['Saves'] / df['Likes']) * 10\n",
    "df.insert(0,'Post_ID' ,range(1,len(df)+1))"
   ],
   "id": "9e60d41b55efb1d2",
   "outputs": [],
   "execution_count": 10
  },
  {
   "metadata": {
    "ExecuteTime": {
     "end_time": "2025-09-09T16:07:23.808538Z",
     "start_time": "2025-09-09T16:07:23.794775Z"
    }
   },
   "cell_type": "code",
   "source": "df['Caption_Length'] = df['Caption'].apply(len)",
   "id": "a24798e5e1cb0bd1",
   "outputs": [],
   "execution_count": 11
  },
  {
   "metadata": {
    "ExecuteTime": {
     "end_time": "2025-09-09T16:07:24.428688Z",
     "start_time": "2025-09-09T16:07:24.381298Z"
    }
   },
   "cell_type": "code",
   "source": "df.head()",
   "id": "ff884c8cfec51e42",
   "outputs": [
    {
     "data": {
      "text/plain": [
       "   Post_ID  Impressions  From Home  From Hashtags  From Explore  From Other  \\\n",
       "0        1         3920       2586           1028           619          56   \n",
       "1        2         5394       2727           1838          1174          78   \n",
       "2        3         4021       2085           1188             0         533   \n",
       "3        4         4528       2700            621           932          73   \n",
       "4        5         2518       1704            255           279          37   \n",
       "\n",
       "   Saves  Comments  Shares  Likes  ...  Follows  \\\n",
       "0     98         9       5    162  ...        2   \n",
       "1    194         7      14    224  ...       10   \n",
       "2     41        11       1    131  ...       12   \n",
       "3    172        10       7    213  ...        8   \n",
       "4     96         5       4    123  ...        0   \n",
       "\n",
       "                                             Caption  \\\n",
       "0  Here are some of the most important data visua...   \n",
       "1  Here are some of the best data science project...   \n",
       "2  Learn how to train a machine learning model an...   \n",
       "3  Heres how you can write a Python program to d...   \n",
       "4  Plotting annotations while visualizing your da...   \n",
       "\n",
       "                                            Hashtags Engagement_Rate  \\\n",
       "0  #finance #money #business #investing #investme...        6.989796   \n",
       "1  #healthcare #health #covid #data #datascience ...        8.138673   \n",
       "2  #data #datascience #dataanalysis #dataanalytic...        4.575976   \n",
       "3  #python #pythonprogramming #pythonprojects #py...        8.878092   \n",
       "4  #datavisualization #datascience #data #dataana...        9.054805   \n",
       "\n",
       "   Home_ratio  Explore_ratio  Hashtag_ratio  Other_ratio  saves_to_likes  \\\n",
       "0    6.596939       1.579082       2.622449     0.142857        6.049383   \n",
       "1    5.055617       2.176492       3.407490     0.144605        8.660714   \n",
       "2    5.185277       0.000000       2.954489     1.325541        3.129771   \n",
       "3    5.962898       2.058304       1.371466     0.161219        8.075117   \n",
       "4    6.767276       1.108022       1.012708     0.146942        7.804878   \n",
       "\n",
       "   Caption_Length  \n",
       "0             112  \n",
       "1             187  \n",
       "2             117  \n",
       "3             202  \n",
       "4             178  \n",
       "\n",
       "[5 rows x 21 columns]"
      ],
      "text/html": [
       "<div>\n",
       "<style scoped>\n",
       "    .dataframe tbody tr th:only-of-type {\n",
       "        vertical-align: middle;\n",
       "    }\n",
       "\n",
       "    .dataframe tbody tr th {\n",
       "        vertical-align: top;\n",
       "    }\n",
       "\n",
       "    .dataframe thead th {\n",
       "        text-align: right;\n",
       "    }\n",
       "</style>\n",
       "<table border=\"1\" class=\"dataframe\">\n",
       "  <thead>\n",
       "    <tr style=\"text-align: right;\">\n",
       "      <th></th>\n",
       "      <th>Post_ID</th>\n",
       "      <th>Impressions</th>\n",
       "      <th>From Home</th>\n",
       "      <th>From Hashtags</th>\n",
       "      <th>From Explore</th>\n",
       "      <th>From Other</th>\n",
       "      <th>Saves</th>\n",
       "      <th>Comments</th>\n",
       "      <th>Shares</th>\n",
       "      <th>Likes</th>\n",
       "      <th>...</th>\n",
       "      <th>Follows</th>\n",
       "      <th>Caption</th>\n",
       "      <th>Hashtags</th>\n",
       "      <th>Engagement_Rate</th>\n",
       "      <th>Home_ratio</th>\n",
       "      <th>Explore_ratio</th>\n",
       "      <th>Hashtag_ratio</th>\n",
       "      <th>Other_ratio</th>\n",
       "      <th>saves_to_likes</th>\n",
       "      <th>Caption_Length</th>\n",
       "    </tr>\n",
       "  </thead>\n",
       "  <tbody>\n",
       "    <tr>\n",
       "      <th>0</th>\n",
       "      <td>1</td>\n",
       "      <td>3920</td>\n",
       "      <td>2586</td>\n",
       "      <td>1028</td>\n",
       "      <td>619</td>\n",
       "      <td>56</td>\n",
       "      <td>98</td>\n",
       "      <td>9</td>\n",
       "      <td>5</td>\n",
       "      <td>162</td>\n",
       "      <td>...</td>\n",
       "      <td>2</td>\n",
       "      <td>Here are some of the most important data visua...</td>\n",
       "      <td>#finance #money #business #investing #investme...</td>\n",
       "      <td>6.989796</td>\n",
       "      <td>6.596939</td>\n",
       "      <td>1.579082</td>\n",
       "      <td>2.622449</td>\n",
       "      <td>0.142857</td>\n",
       "      <td>6.049383</td>\n",
       "      <td>112</td>\n",
       "    </tr>\n",
       "    <tr>\n",
       "      <th>1</th>\n",
       "      <td>2</td>\n",
       "      <td>5394</td>\n",
       "      <td>2727</td>\n",
       "      <td>1838</td>\n",
       "      <td>1174</td>\n",
       "      <td>78</td>\n",
       "      <td>194</td>\n",
       "      <td>7</td>\n",
       "      <td>14</td>\n",
       "      <td>224</td>\n",
       "      <td>...</td>\n",
       "      <td>10</td>\n",
       "      <td>Here are some of the best data science project...</td>\n",
       "      <td>#healthcare #health #covid #data #datascience ...</td>\n",
       "      <td>8.138673</td>\n",
       "      <td>5.055617</td>\n",
       "      <td>2.176492</td>\n",
       "      <td>3.407490</td>\n",
       "      <td>0.144605</td>\n",
       "      <td>8.660714</td>\n",
       "      <td>187</td>\n",
       "    </tr>\n",
       "    <tr>\n",
       "      <th>2</th>\n",
       "      <td>3</td>\n",
       "      <td>4021</td>\n",
       "      <td>2085</td>\n",
       "      <td>1188</td>\n",
       "      <td>0</td>\n",
       "      <td>533</td>\n",
       "      <td>41</td>\n",
       "      <td>11</td>\n",
       "      <td>1</td>\n",
       "      <td>131</td>\n",
       "      <td>...</td>\n",
       "      <td>12</td>\n",
       "      <td>Learn how to train a machine learning model an...</td>\n",
       "      <td>#data #datascience #dataanalysis #dataanalytic...</td>\n",
       "      <td>4.575976</td>\n",
       "      <td>5.185277</td>\n",
       "      <td>0.000000</td>\n",
       "      <td>2.954489</td>\n",
       "      <td>1.325541</td>\n",
       "      <td>3.129771</td>\n",
       "      <td>117</td>\n",
       "    </tr>\n",
       "    <tr>\n",
       "      <th>3</th>\n",
       "      <td>4</td>\n",
       "      <td>4528</td>\n",
       "      <td>2700</td>\n",
       "      <td>621</td>\n",
       "      <td>932</td>\n",
       "      <td>73</td>\n",
       "      <td>172</td>\n",
       "      <td>10</td>\n",
       "      <td>7</td>\n",
       "      <td>213</td>\n",
       "      <td>...</td>\n",
       "      <td>8</td>\n",
       "      <td>Heres how you can write a Python program to d...</td>\n",
       "      <td>#python #pythonprogramming #pythonprojects #py...</td>\n",
       "      <td>8.878092</td>\n",
       "      <td>5.962898</td>\n",
       "      <td>2.058304</td>\n",
       "      <td>1.371466</td>\n",
       "      <td>0.161219</td>\n",
       "      <td>8.075117</td>\n",
       "      <td>202</td>\n",
       "    </tr>\n",
       "    <tr>\n",
       "      <th>4</th>\n",
       "      <td>5</td>\n",
       "      <td>2518</td>\n",
       "      <td>1704</td>\n",
       "      <td>255</td>\n",
       "      <td>279</td>\n",
       "      <td>37</td>\n",
       "      <td>96</td>\n",
       "      <td>5</td>\n",
       "      <td>4</td>\n",
       "      <td>123</td>\n",
       "      <td>...</td>\n",
       "      <td>0</td>\n",
       "      <td>Plotting annotations while visualizing your da...</td>\n",
       "      <td>#datavisualization #datascience #data #dataana...</td>\n",
       "      <td>9.054805</td>\n",
       "      <td>6.767276</td>\n",
       "      <td>1.108022</td>\n",
       "      <td>1.012708</td>\n",
       "      <td>0.146942</td>\n",
       "      <td>7.804878</td>\n",
       "      <td>178</td>\n",
       "    </tr>\n",
       "  </tbody>\n",
       "</table>\n",
       "<p>5 rows × 21 columns</p>\n",
       "</div>"
      ]
     },
     "execution_count": 12,
     "metadata": {},
     "output_type": "execute_result"
    }
   ],
   "execution_count": 12
  },
  {
   "metadata": {
    "ExecuteTime": {
     "end_time": "2025-09-09T16:07:36.778955Z",
     "start_time": "2025-09-09T16:07:36.493325Z"
    }
   },
   "cell_type": "code",
   "source": [
    "import seaborn as sns\n",
    "import matplotlib.pyplot as plt\n",
    "import plotly.express as px"
   ],
   "id": "87f37e52a790685f",
   "outputs": [],
   "execution_count": 13
  },
  {
   "metadata": {},
   "cell_type": "markdown",
   "source": "##### Q1: Which posts received the most likes?",
   "id": "6ed3c6dc5e37d75"
  },
  {
   "metadata": {
    "ExecuteTime": {
     "end_time": "2025-09-09T16:07:43.557717Z",
     "start_time": "2025-09-09T16:07:43.522911Z"
    }
   },
   "cell_type": "code",
   "source": "df[df['Likes'] == df['Likes'].max()][['Post_ID','Caption']]",
   "id": "3fb73f296b23cd5c",
   "outputs": [
    {
     "data": {
      "text/plain": [
       "     Post_ID                                            Caption\n",
       "117      101  Here are some of the best data science certifi..."
      ],
      "text/html": [
       "<div>\n",
       "<style scoped>\n",
       "    .dataframe tbody tr th:only-of-type {\n",
       "        vertical-align: middle;\n",
       "    }\n",
       "\n",
       "    .dataframe tbody tr th {\n",
       "        vertical-align: top;\n",
       "    }\n",
       "\n",
       "    .dataframe thead th {\n",
       "        text-align: right;\n",
       "    }\n",
       "</style>\n",
       "<table border=\"1\" class=\"dataframe\">\n",
       "  <thead>\n",
       "    <tr style=\"text-align: right;\">\n",
       "      <th></th>\n",
       "      <th>Post_ID</th>\n",
       "      <th>Caption</th>\n",
       "    </tr>\n",
       "  </thead>\n",
       "  <tbody>\n",
       "    <tr>\n",
       "      <th>117</th>\n",
       "      <td>101</td>\n",
       "      <td>Here are some of the best data science certifi...</td>\n",
       "    </tr>\n",
       "  </tbody>\n",
       "</table>\n",
       "</div>"
      ]
     },
     "execution_count": 14,
     "metadata": {},
     "output_type": "execute_result"
    }
   ],
   "execution_count": 14
  },
  {
   "metadata": {
    "ExecuteTime": {
     "end_time": "2025-09-09T16:07:48.865616Z",
     "start_time": "2025-09-09T16:07:45.421978Z"
    }
   },
   "cell_type": "code",
   "source": [
    "plt.figure(figsize=(20,10))\n",
    "sns.barplot(x='Post_ID', y='Likes', hue='Likes', data=df)\n",
    "\n",
    "plt.show()"
   ],
   "id": "d7d9425fbd7b2025",
   "outputs": [
    {
     "data": {
      "text/plain": [
       "<Figure size 2000x1000 with 1 Axes>"
      ],
      "image/png": "[encoded data removed]"
     },
     "metadata": {},
     "output_type": "display_data"
    }
   ],
   "execution_count": 15
  },
  {
   "metadata": {},
   "cell_type": "markdown",
   "source": "##### Q2: Which posts received the most saves and shares?",
   "id": "47474c3052be2b8a"
  },
  {
   "metadata": {
    "ExecuteTime": {
     "end_time": "2025-09-09T16:07:49.909168Z",
     "start_time": "2025-09-09T16:07:49.871491Z"
    }
   },
   "cell_type": "code",
   "source": "df[df['Saves'] == df['Saves'].max()][['Post_ID','Caption']]",
   "id": "506c3e689577a14a",
   "outputs": [
    {
     "data": {
      "text/plain": [
       "     Post_ID                                            Caption\n",
       "117      101  Here are some of the best data science certifi..."
      ],
      "text/html": [
       "<div>\n",
       "<style scoped>\n",
       "    .dataframe tbody tr th:only-of-type {\n",
       "        vertical-align: middle;\n",
       "    }\n",
       "\n",
       "    .dataframe tbody tr th {\n",
       "        vertical-align: top;\n",
       "    }\n",
       "\n",
       "    .dataframe thead th {\n",
       "        text-align: right;\n",
       "    }\n",
       "</style>\n",
       "<table border=\"1\" class=\"dataframe\">\n",
       "  <thead>\n",
       "    <tr style=\"text-align: right;\">\n",
       "      <th></th>\n",
       "      <th>Post_ID</th>\n",
       "      <th>Caption</th>\n",
       "    </tr>\n",
       "  </thead>\n",
       "  <tbody>\n",
       "    <tr>\n",
       "      <th>117</th>\n",
       "      <td>101</td>\n",
       "      <td>Here are some of the best data science certifi...</td>\n",
       "    </tr>\n",
       "  </tbody>\n",
       "</table>\n",
       "</div>"
      ]
     },
     "execution_count": 16,
     "metadata": {},
     "output_type": "execute_result"
    }
   ],
   "execution_count": 16
  },
  {
   "metadata": {
    "ExecuteTime": {
     "end_time": "2025-09-09T16:07:50.412873Z",
     "start_time": "2025-09-09T16:07:50.393579Z"
    }
   },
   "cell_type": "code",
   "source": "df[df['Shares'] == df['Shares'].max()][['Post_ID','Caption']]",
   "id": "26fb358267e1f17f",
   "outputs": [
    {
     "data": {
      "text/plain": [
       "     Post_ID                                            Caption\n",
       "117      101  Here are some of the best data science certifi..."
      ],
      "text/html": [
       "<div>\n",
       "<style scoped>\n",
       "    .dataframe tbody tr th:only-of-type {\n",
       "        vertical-align: middle;\n",
       "    }\n",
       "\n",
       "    .dataframe tbody tr th {\n",
       "        vertical-align: top;\n",
       "    }\n",
       "\n",
       "    .dataframe thead th {\n",
       "        text-align: right;\n",
       "    }\n",
       "</style>\n",
       "<table border=\"1\" class=\"dataframe\">\n",
       "  <thead>\n",
       "    <tr style=\"text-align: right;\">\n",
       "      <th></th>\n",
       "      <th>Post_ID</th>\n",
       "      <th>Caption</th>\n",
       "    </tr>\n",
       "  </thead>\n",
       "  <tbody>\n",
       "    <tr>\n",
       "      <th>117</th>\n",
       "      <td>101</td>\n",
       "      <td>Here are some of the best data science certifi...</td>\n",
       "    </tr>\n",
       "  </tbody>\n",
       "</table>\n",
       "</div>"
      ]
     },
     "execution_count": 17,
     "metadata": {},
     "output_type": "execute_result"
    }
   ],
   "execution_count": 17
  },
  {
   "metadata": {},
   "cell_type": "markdown",
   "source": "##### Q3: Which posts generated the most profile visits and follows?",
   "id": "941af12aca02c2b6"
  },
  {
   "metadata": {
    "ExecuteTime": {
     "end_time": "2025-09-09T16:07:50.784487Z",
     "start_time": "2025-09-09T16:07:50.765489Z"
    }
   },
   "cell_type": "code",
   "source": "df[df['Profile Visits'] == df['Profile Visits'].max()][['Post_ID','Caption']]",
   "id": "b6b74852ca8bb4d1",
   "outputs": [
    {
     "data": {
      "text/plain": [
       "     Post_ID                                            Caption\n",
       "118      102  175 Python Projects with Source Code solved an..."
      ],
      "text/html": [
       "<div>\n",
       "<style scoped>\n",
       "    .dataframe tbody tr th:only-of-type {\n",
       "        vertical-align: middle;\n",
       "    }\n",
       "\n",
       "    .dataframe tbody tr th {\n",
       "        vertical-align: top;\n",
       "    }\n",
       "\n",
       "    .dataframe thead th {\n",
       "        text-align: right;\n",
       "    }\n",
       "</style>\n",
       "<table border=\"1\" class=\"dataframe\">\n",
       "  <thead>\n",
       "    <tr style=\"text-align: right;\">\n",
       "      <th></th>\n",
       "      <th>Post_ID</th>\n",
       "      <th>Caption</th>\n",
       "    </tr>\n",
       "  </thead>\n",
       "  <tbody>\n",
       "    <tr>\n",
       "      <th>118</th>\n",
       "      <td>102</td>\n",
       "      <td>175 Python Projects with Source Code solved an...</td>\n",
       "    </tr>\n",
       "  </tbody>\n",
       "</table>\n",
       "</div>"
      ]
     },
     "execution_count": 18,
     "metadata": {},
     "output_type": "execute_result"
    }
   ],
   "execution_count": 18
  },
  {
   "metadata": {
    "ExecuteTime": {
     "end_time": "2025-09-09T16:07:51.424460Z",
     "start_time": "2025-09-09T16:07:51.397428Z"
    }
   },
   "cell_type": "code",
   "source": "df[df['Follows'] == df['Follows'].max()][['Post_ID','Caption']]",
   "id": "60fc0f5a119b4c2e",
   "outputs": [
    {
     "data": {
      "text/plain": [
       "     Post_ID                                            Caption\n",
       "107       91  Here is a list of 100+ Machine Learning Algori..."
      ],
      "text/html": [
       "<div>\n",
       "<style scoped>\n",
       "    .dataframe tbody tr th:only-of-type {\n",
       "        vertical-align: middle;\n",
       "    }\n",
       "\n",
       "    .dataframe tbody tr th {\n",
       "        vertical-align: top;\n",
       "    }\n",
       "\n",
       "    .dataframe thead th {\n",
       "        text-align: right;\n",
       "    }\n",
       "</style>\n",
       "<table border=\"1\" class=\"dataframe\">\n",
       "  <thead>\n",
       "    <tr style=\"text-align: right;\">\n",
       "      <th></th>\n",
       "      <th>Post_ID</th>\n",
       "      <th>Caption</th>\n",
       "    </tr>\n",
       "  </thead>\n",
       "  <tbody>\n",
       "    <tr>\n",
       "      <th>107</th>\n",
       "      <td>91</td>\n",
       "      <td>Here is a list of 100+ Machine Learning Algori...</td>\n",
       "    </tr>\n",
       "  </tbody>\n",
       "</table>\n",
       "</div>"
      ]
     },
     "execution_count": 19,
     "metadata": {},
     "output_type": "execute_result"
    }
   ],
   "execution_count": 19
  },
  {
   "metadata": {
    "ExecuteTime": {
     "end_time": "2025-09-09T16:07:51.790133Z",
     "start_time": "2025-09-09T16:07:51.780135Z"
    }
   },
   "cell_type": "code",
   "source": "df.columns",
   "id": "31deaa9b61137708",
   "outputs": [
    {
     "data": {
      "text/plain": [
       "Index(['Post_ID', 'Impressions', 'From Home', 'From Hashtags', 'From Explore',\n",
       "       'From Other', 'Saves', 'Comments', 'Shares', 'Likes', 'Profile Visits',\n",
       "       'Follows', 'Caption', 'Hashtags', 'Engagement_Rate', 'Home_ratio',\n",
       "       'Explore_ratio', 'Hashtag_ratio', 'Other_ratio', 'saves_to_likes',\n",
       "       'Caption_Length'],\n",
       "      dtype='object')"
      ]
     },
     "execution_count": 20,
     "metadata": {},
     "output_type": "execute_result"
    }
   ],
   "execution_count": 20
  },
  {
   "metadata": {},
   "cell_type": "markdown",
   "source": "##### Q4: What is the correlation between likes and other metrics(impressions, saves, comments, follows)?",
   "id": "c92d2df87d89f9ed"
  },
  {
   "metadata": {
    "ExecuteTime": {
     "end_time": "2025-09-09T16:07:52.319506Z",
     "start_time": "2025-09-09T16:07:52.277069Z"
    }
   },
   "cell_type": "code",
   "source": "df[['Likes','Impressions','Saves','Comments','Follows']].corr()",
   "id": "bc5afe01ba6d40d1",
   "outputs": [
    {
     "data": {
      "text/plain": [
       "                Likes  Impressions     Saves  Comments   Follows\n",
       "Likes        1.000000     0.852952  0.843395  0.163383  0.758234\n",
       "Impressions  0.852952     1.000000  0.791448 -0.008535  0.889944\n",
       "Saves        0.843395     0.791448  1.000000 -0.003695  0.647585\n",
       "Comments     0.163383    -0.008535 -0.003695  1.000000 -0.029298\n",
       "Follows      0.758234     0.889944  0.647585 -0.029298  1.000000"
      ],
      "text/html": [
       "<div>\n",
       "<style scoped>\n",
       "    .dataframe tbody tr th:only-of-type {\n",
       "        vertical-align: middle;\n",
       "    }\n",
       "\n",
       "    .dataframe tbody tr th {\n",
       "        vertical-align: top;\n",
       "    }\n",
       "\n",
       "    .dataframe thead th {\n",
       "        text-align: right;\n",
       "    }\n",
       "</style>\n",
       "<table border=\"1\" class=\"dataframe\">\n",
       "  <thead>\n",
       "    <tr style=\"text-align: right;\">\n",
       "      <th></th>\n",
       "      <th>Likes</th>\n",
       "      <th>Impressions</th>\n",
       "      <th>Saves</th>\n",
       "      <th>Comments</th>\n",
       "      <th>Follows</th>\n",
       "    </tr>\n",
       "  </thead>\n",
       "  <tbody>\n",
       "    <tr>\n",
       "      <th>Likes</th>\n",
       "      <td>1.000000</td>\n",
       "      <td>0.852952</td>\n",
       "      <td>0.843395</td>\n",
       "      <td>0.163383</td>\n",
       "      <td>0.758234</td>\n",
       "    </tr>\n",
       "    <tr>\n",
       "      <th>Impressions</th>\n",
       "      <td>0.852952</td>\n",
       "      <td>1.000000</td>\n",
       "      <td>0.791448</td>\n",
       "      <td>-0.008535</td>\n",
       "      <td>0.889944</td>\n",
       "    </tr>\n",
       "    <tr>\n",
       "      <th>Saves</th>\n",
       "      <td>0.843395</td>\n",
       "      <td>0.791448</td>\n",
       "      <td>1.000000</td>\n",
       "      <td>-0.003695</td>\n",
       "      <td>0.647585</td>\n",
       "    </tr>\n",
       "    <tr>\n",
       "      <th>Comments</th>\n",
       "      <td>0.163383</td>\n",
       "      <td>-0.008535</td>\n",
       "      <td>-0.003695</td>\n",
       "      <td>1.000000</td>\n",
       "      <td>-0.029298</td>\n",
       "    </tr>\n",
       "    <tr>\n",
       "      <th>Follows</th>\n",
       "      <td>0.758234</td>\n",
       "      <td>0.889944</td>\n",
       "      <td>0.647585</td>\n",
       "      <td>-0.029298</td>\n",
       "      <td>1.000000</td>\n",
       "    </tr>\n",
       "  </tbody>\n",
       "</table>\n",
       "</div>"
      ]
     },
     "execution_count": 21,
     "metadata": {},
     "output_type": "execute_result"
    }
   ],
   "execution_count": 21
  },
  {
   "metadata": {
    "ExecuteTime": {
     "end_time": "2025-09-09T17:54:53.337196Z",
     "start_time": "2025-09-09T17:54:51.862466Z"
    }
   },
   "cell_type": "code",
   "source": [
    "sns.heatmap(df[['Likes','Impressions','Saves','Comments','Follows']].corr(),annot=True)\n",
    "plt.show()"
   ],
   "id": "87cad7f1163d0872",
   "outputs": [
    {
     "data": {
      "text/plain": [
       "<Figure size 640x480 with 2 Axes>"
      ],
      "image/png": "[encoded data removed]"
     },
     "metadata": {},
     "output_type": "display_data"
    }
   ],
   "execution_count": 63
  },
  {
   "metadata": {},
   "cell_type": "markdown",
   "source": "##### Q5: Do posts with higher impressions always get more likes?",
   "id": "dfa987ab62e14971"
  },
  {
   "metadata": {
    "ExecuteTime": {
     "end_time": "2025-09-09T16:07:53.136601Z",
     "start_time": "2025-09-09T16:07:52.594795Z"
    }
   },
   "cell_type": "code",
   "source": [
    "sns.scatterplot(x='Impressions', y='Likes', hue='Likes', data=df)\n",
    "plt.title(\"Impressions vs Likes\")\n",
    "plt.show()"
   ],
   "id": "d83b34515f6c6a81",
   "outputs": [
    {
     "data": {
      "text/plain": [
       "<Figure size 640x480 with 1 Axes>"
      ],
      "image/png": "[encoded data removed]"
     },
     "metadata": {},
     "output_type": "display_data"
    }
   ],
   "execution_count": 22
  },
  {
   "metadata": {},
   "cell_type": "markdown",
   "source": "- as impressions increase likes increase",
   "id": "124a4eae968b5608"
  },
  {
   "metadata": {},
   "cell_type": "markdown",
   "source": "##### Q6: Do more profile visits translate into more follows?",
   "id": "548dd7b1f9537c8c"
  },
  {
   "metadata": {
    "ExecuteTime": {
     "end_time": "2025-09-09T16:07:53.945980Z",
     "start_time": "2025-09-09T16:07:53.286053Z"
    }
   },
   "cell_type": "code",
   "source": [
    "sns.scatterplot(x='Profile Visits', y='Follows', hue='Likes', data=df)\n",
    "plt.title(\"Profile vs Follows\")\n",
    "plt.show()"
   ],
   "id": "ad89014f8032ece5",
   "outputs": [
    {
     "data": {
      "text/plain": [
       "<Figure size 640x480 with 1 Axes>"
      ],
      "image/png": "[encoded data removed]"
     },
     "metadata": {},
     "output_type": "display_data"
    }
   ],
   "execution_count": 23
  },
  {
   "metadata": {
    "ExecuteTime": {
     "end_time": "2025-09-09T16:07:54.065335Z",
     "start_time": "2025-09-09T16:07:54.041472Z"
    }
   },
   "cell_type": "code",
   "source": "df[['Profile Visits','Follows']].corr()",
   "id": "c77402a58b1a5095",
   "outputs": [
    {
     "data": {
      "text/plain": [
       "                Profile Visits   Follows\n",
       "Profile Visits        1.000000  0.852748\n",
       "Follows               0.852748  1.000000"
      ],
      "text/html": [
       "<div>\n",
       "<style scoped>\n",
       "    .dataframe tbody tr th:only-of-type {\n",
       "        vertical-align: middle;\n",
       "    }\n",
       "\n",
       "    .dataframe tbody tr th {\n",
       "        vertical-align: top;\n",
       "    }\n",
       "\n",
       "    .dataframe thead th {\n",
       "        text-align: right;\n",
       "    }\n",
       "</style>\n",
       "<table border=\"1\" class=\"dataframe\">\n",
       "  <thead>\n",
       "    <tr style=\"text-align: right;\">\n",
       "      <th></th>\n",
       "      <th>Profile Visits</th>\n",
       "      <th>Follows</th>\n",
       "    </tr>\n",
       "  </thead>\n",
       "  <tbody>\n",
       "    <tr>\n",
       "      <th>Profile Visits</th>\n",
       "      <td>1.000000</td>\n",
       "      <td>0.852748</td>\n",
       "    </tr>\n",
       "    <tr>\n",
       "      <th>Follows</th>\n",
       "      <td>0.852748</td>\n",
       "      <td>1.000000</td>\n",
       "    </tr>\n",
       "  </tbody>\n",
       "</table>\n",
       "</div>"
      ]
     },
     "execution_count": 24,
     "metadata": {},
     "output_type": "execute_result"
    }
   ],
   "execution_count": 24
  },
  {
   "metadata": {
    "ExecuteTime": {
     "end_time": "2025-09-09T17:55:40.471110Z",
     "start_time": "2025-09-09T17:55:39.478502Z"
    }
   },
   "cell_type": "code",
   "source": [
    "sns.heatmap(df[['Profile Visits','Follows']].corr(),annot = True)\n",
    "plt.show()"
   ],
   "id": "25b88f5f5de72f17",
   "outputs": [
    {
     "data": {
      "text/plain": [
       "<Figure size 640x480 with 2 Axes>"
      ],
      "image/png": "[encoded data removed]"
     },
     "metadata": {},
     "output_type": "display_data"
    }
   ],
   "execution_count": 65
  },
  {
   "metadata": {},
   "cell_type": "markdown",
   "source": "- as profile visits increase follows increase",
   "id": "ab573a1ec1e5957d"
  },
  {
   "metadata": {},
   "cell_type": "markdown",
   "source": "##### Q7: Which source (From Home, From Hashtags, From Explore, From Other) contributes the most impressions overall?",
   "id": "757592ad775c095d"
  },
  {
   "metadata": {
    "ExecuteTime": {
     "end_time": "2025-09-09T16:07:54.229081Z",
     "start_time": "2025-09-09T16:07:54.214538Z"
    }
   },
   "cell_type": "code",
   "source": [
    "print(df['From Home'].sum())\n",
    "print(df['From Explore'].sum())\n",
    "print(df[\"From Hashtags\"].sum())\n",
    "print(df['From Other'].sum())"
   ],
   "id": "78b0ffd43ad511b9",
   "outputs": [
    {
     "name": "stdout",
     "output_type": "stream",
     "text": [
      "254685\n",
      "120214\n",
      "200765\n",
      "18824\n"
     ]
    }
   ],
   "execution_count": 25
  },
  {
   "metadata": {},
   "cell_type": "markdown",
   "source": "- Home affects impressions the most",
   "id": "e7c47dd4188f7b51"
  },
  {
   "metadata": {
    "ExecuteTime": {
     "end_time": "2025-09-09T16:07:54.429064Z",
     "start_time": "2025-09-09T16:07:54.388854Z"
    }
   },
   "cell_type": "code",
   "source": "df.head(1)",
   "id": "c22f61c576237f6d",
   "outputs": [
    {
     "data": {
      "text/plain": [
       "   Post_ID  Impressions  From Home  From Hashtags  From Explore  From Other  \\\n",
       "0        1         3920       2586           1028           619          56   \n",
       "\n",
       "   Saves  Comments  Shares  Likes  ...  Follows  \\\n",
       "0     98         9       5    162  ...        2   \n",
       "\n",
       "                                             Caption  \\\n",
       "0  Here are some of the most important data visua...   \n",
       "\n",
       "                                            Hashtags Engagement_Rate  \\\n",
       "0  #finance #money #business #investing #investme...        6.989796   \n",
       "\n",
       "   Home_ratio  Explore_ratio  Hashtag_ratio  Other_ratio  saves_to_likes  \\\n",
       "0    6.596939       1.579082       2.622449     0.142857        6.049383   \n",
       "\n",
       "   Caption_Length  \n",
       "0             112  \n",
       "\n",
       "[1 rows x 21 columns]"
      ],
      "text/html": [
       "<div>\n",
       "<style scoped>\n",
       "    .dataframe tbody tr th:only-of-type {\n",
       "        vertical-align: middle;\n",
       "    }\n",
       "\n",
       "    .dataframe tbody tr th {\n",
       "        vertical-align: top;\n",
       "    }\n",
       "\n",
       "    .dataframe thead th {\n",
       "        text-align: right;\n",
       "    }\n",
       "</style>\n",
       "<table border=\"1\" class=\"dataframe\">\n",
       "  <thead>\n",
       "    <tr style=\"text-align: right;\">\n",
       "      <th></th>\n",
       "      <th>Post_ID</th>\n",
       "      <th>Impressions</th>\n",
       "      <th>From Home</th>\n",
       "      <th>From Hashtags</th>\n",
       "      <th>From Explore</th>\n",
       "      <th>From Other</th>\n",
       "      <th>Saves</th>\n",
       "      <th>Comments</th>\n",
       "      <th>Shares</th>\n",
       "      <th>Likes</th>\n",
       "      <th>...</th>\n",
       "      <th>Follows</th>\n",
       "      <th>Caption</th>\n",
       "      <th>Hashtags</th>\n",
       "      <th>Engagement_Rate</th>\n",
       "      <th>Home_ratio</th>\n",
       "      <th>Explore_ratio</th>\n",
       "      <th>Hashtag_ratio</th>\n",
       "      <th>Other_ratio</th>\n",
       "      <th>saves_to_likes</th>\n",
       "      <th>Caption_Length</th>\n",
       "    </tr>\n",
       "  </thead>\n",
       "  <tbody>\n",
       "    <tr>\n",
       "      <th>0</th>\n",
       "      <td>1</td>\n",
       "      <td>3920</td>\n",
       "      <td>2586</td>\n",
       "      <td>1028</td>\n",
       "      <td>619</td>\n",
       "      <td>56</td>\n",
       "      <td>98</td>\n",
       "      <td>9</td>\n",
       "      <td>5</td>\n",
       "      <td>162</td>\n",
       "      <td>...</td>\n",
       "      <td>2</td>\n",
       "      <td>Here are some of the most important data visua...</td>\n",
       "      <td>#finance #money #business #investing #investme...</td>\n",
       "      <td>6.989796</td>\n",
       "      <td>6.596939</td>\n",
       "      <td>1.579082</td>\n",
       "      <td>2.622449</td>\n",
       "      <td>0.142857</td>\n",
       "      <td>6.049383</td>\n",
       "      <td>112</td>\n",
       "    </tr>\n",
       "  </tbody>\n",
       "</table>\n",
       "<p>1 rows × 21 columns</p>\n",
       "</div>"
      ]
     },
     "execution_count": 26,
     "metadata": {},
     "output_type": "execute_result"
    }
   ],
   "execution_count": 26
  },
  {
   "metadata": {},
   "cell_type": "markdown",
   "source": "##### Q8: For each post, which source ratio is the highest?",
   "id": "759b956e3ff7d1fb"
  },
  {
   "metadata": {
    "ExecuteTime": {
     "end_time": "2025-09-09T16:07:54.630439Z",
     "start_time": "2025-09-09T16:07:54.613973Z"
    }
   },
   "cell_type": "code",
   "source": "df['Top_source'] = df[['Explore_ratio','Hashtag_ratio','Other_ratio','Home_ratio']].idxmax(axis = 1)",
   "id": "f163d7830a53e34c",
   "outputs": [],
   "execution_count": 27
  },
  {
   "metadata": {
    "ExecuteTime": {
     "end_time": "2025-09-09T17:48:12.329137Z",
     "start_time": "2025-09-09T17:48:11.825188Z"
    }
   },
   "cell_type": "code",
   "source": "df['Top_source']",
   "id": "6189be591beefb4b",
   "outputs": [
    {
     "data": {
      "text/plain": [
       "0         Home_ratio\n",
       "1         Home_ratio\n",
       "2         Home_ratio\n",
       "3         Home_ratio\n",
       "4         Home_ratio\n",
       "           ...      \n",
       "114    Explore_ratio\n",
       "115    Explore_ratio\n",
       "116    Hashtag_ratio\n",
       "117    Explore_ratio\n",
       "118    Explore_ratio\n",
       "Name: Top_source, Length: 102, dtype: object"
      ]
     },
     "execution_count": 61,
     "metadata": {},
     "output_type": "execute_result"
    }
   ],
   "execution_count": 61
  },
  {
   "metadata": {},
   "cell_type": "markdown",
   "source": "##### Q9: Do posts with higher Explore_ratio receive more like?",
   "id": "958f04dadb4fcf76"
  },
  {
   "metadata": {
    "ExecuteTime": {
     "end_time": "2025-09-09T16:07:56.470091Z",
     "start_time": "2025-09-09T16:07:56.139954Z"
    }
   },
   "cell_type": "code",
   "source": [
    "sns.scatterplot(data =df, x = 'Explore_ratio',y='Likes')\n",
    "plt.show()"
   ],
   "id": "fae9feabd40760cd",
   "outputs": [
    {
     "data": {
      "text/plain": [
       "<Figure size 640x480 with 1 Axes>"
      ],
      "image/png": "[encoded data removed]"
     },
     "metadata": {},
     "output_type": "display_data"
    }
   ],
   "execution_count": 29
  },
  {
   "metadata": {
    "ExecuteTime": {
     "end_time": "2025-09-09T16:07:57.428386Z",
     "start_time": "2025-09-09T16:07:57.410554Z"
    }
   },
   "cell_type": "code",
   "source": "df[['Explore_ratio','Likes']].corr()",
   "id": "3488c52a87f89d70",
   "outputs": [
    {
     "data": {
      "text/plain": [
       "               Explore_ratio     Likes\n",
       "Explore_ratio       1.000000  0.425912\n",
       "Likes               0.425912  1.000000"
      ],
      "text/html": [
       "<div>\n",
       "<style scoped>\n",
       "    .dataframe tbody tr th:only-of-type {\n",
       "        vertical-align: middle;\n",
       "    }\n",
       "\n",
       "    .dataframe tbody tr th {\n",
       "        vertical-align: top;\n",
       "    }\n",
       "\n",
       "    .dataframe thead th {\n",
       "        text-align: right;\n",
       "    }\n",
       "</style>\n",
       "<table border=\"1\" class=\"dataframe\">\n",
       "  <thead>\n",
       "    <tr style=\"text-align: right;\">\n",
       "      <th></th>\n",
       "      <th>Explore_ratio</th>\n",
       "      <th>Likes</th>\n",
       "    </tr>\n",
       "  </thead>\n",
       "  <tbody>\n",
       "    <tr>\n",
       "      <th>Explore_ratio</th>\n",
       "      <td>1.000000</td>\n",
       "      <td>0.425912</td>\n",
       "    </tr>\n",
       "    <tr>\n",
       "      <th>Likes</th>\n",
       "      <td>0.425912</td>\n",
       "      <td>1.000000</td>\n",
       "    </tr>\n",
       "  </tbody>\n",
       "</table>\n",
       "</div>"
      ]
     },
     "execution_count": 30,
     "metadata": {},
     "output_type": "execute_result"
    }
   ],
   "execution_count": 30
  },
  {
   "metadata": {
    "ExecuteTime": {
     "end_time": "2025-09-09T17:56:27.181382Z",
     "start_time": "2025-09-09T17:56:26.325700Z"
    }
   },
   "cell_type": "code",
   "source": [
    "sns.heatmap(df[['Explore_ratio','Likes']].corr(),annot = True)\n",
    "plt.show()"
   ],
   "id": "8c1c4831c1ee85f",
   "outputs": [
    {
     "data": {
      "text/plain": [
       "<Figure size 640x480 with 2 Axes>"
      ],
      "image/png": "[encoded data removed]"
     },
     "metadata": {},
     "output_type": "display_data"
    }
   ],
   "execution_count": 66
  },
  {
   "metadata": {},
   "cell_type": "markdown",
   "source": "##### sometimes posts with higher explore_ratio gets high likes but not usually",
   "id": "45a15e2c03453a8c"
  },
  {
   "metadata": {},
   "cell_type": "markdown",
   "source": "##### Q10: Do posts with higher Hashtag_ratio perform better than those with lower?",
   "id": "7b12fb57a6c967c8"
  },
  {
   "metadata": {
    "ExecuteTime": {
     "end_time": "2025-09-09T16:07:58.272256Z",
     "start_time": "2025-09-09T16:07:57.978421Z"
    }
   },
   "cell_type": "code",
   "source": [
    "sns.scatterplot(data =df, x = 'Hashtag_ratio',y='Likes')\n",
    "plt.show()"
   ],
   "id": "7481e306096936ac",
   "outputs": [
    {
     "data": {
      "text/plain": [
       "<Figure size 640x480 with 1 Axes>"
      ],
      "image/png": "[encoded data removed]"
     },
     "metadata": {},
     "output_type": "display_data"
    }
   ],
   "execution_count": 31
  },
  {
   "metadata": {
    "ExecuteTime": {
     "end_time": "2025-09-09T16:07:58.445523Z",
     "start_time": "2025-09-09T16:07:58.424973Z"
    }
   },
   "cell_type": "code",
   "source": "df[['Hashtag_ratio','Likes']].corr()",
   "id": "345ed3178d5bcc0f",
   "outputs": [
    {
     "data": {
      "text/plain": [
       "               Hashtag_ratio     Likes\n",
       "Hashtag_ratio       1.000000  0.206919\n",
       "Likes               0.206919  1.000000"
      ],
      "text/html": [
       "<div>\n",
       "<style scoped>\n",
       "    .dataframe tbody tr th:only-of-type {\n",
       "        vertical-align: middle;\n",
       "    }\n",
       "\n",
       "    .dataframe tbody tr th {\n",
       "        vertical-align: top;\n",
       "    }\n",
       "\n",
       "    .dataframe thead th {\n",
       "        text-align: right;\n",
       "    }\n",
       "</style>\n",
       "<table border=\"1\" class=\"dataframe\">\n",
       "  <thead>\n",
       "    <tr style=\"text-align: right;\">\n",
       "      <th></th>\n",
       "      <th>Hashtag_ratio</th>\n",
       "      <th>Likes</th>\n",
       "    </tr>\n",
       "  </thead>\n",
       "  <tbody>\n",
       "    <tr>\n",
       "      <th>Hashtag_ratio</th>\n",
       "      <td>1.000000</td>\n",
       "      <td>0.206919</td>\n",
       "    </tr>\n",
       "    <tr>\n",
       "      <th>Likes</th>\n",
       "      <td>0.206919</td>\n",
       "      <td>1.000000</td>\n",
       "    </tr>\n",
       "  </tbody>\n",
       "</table>\n",
       "</div>"
      ]
     },
     "execution_count": 32,
     "metadata": {},
     "output_type": "execute_result"
    }
   ],
   "execution_count": 32
  },
  {
   "metadata": {
    "ExecuteTime": {
     "end_time": "2025-09-09T17:57:15.677819Z",
     "start_time": "2025-09-09T17:57:15.031610Z"
    }
   },
   "cell_type": "code",
   "source": [
    "sns.heatmap(df[['Hashtag_ratio','Likes']].corr(),annot = True)\n",
    "plt.show()"
   ],
   "id": "d47ede6fe29cf012",
   "outputs": [
    {
     "data": {
      "text/plain": [
       "<Figure size 640x480 with 2 Axes>"
      ],
      "image/png": "[encoded data removed]"
     },
     "metadata": {},
     "output_type": "display_data"
    }
   ],
   "execution_count": 67
  },
  {
   "metadata": {},
   "cell_type": "markdown",
   "source": "##### Likes not affected much by hashtag_ratio",
   "id": "58564a831c9557f4"
  },
  {
   "metadata": {},
   "cell_type": "markdown",
   "source": "##### Q11: Which posts have the highest engagement rate?",
   "id": "db088801253fb7cc"
  },
  {
   "metadata": {
    "ExecuteTime": {
     "end_time": "2025-09-09T16:07:58.833041Z",
     "start_time": "2025-09-09T16:07:58.819526Z"
    }
   },
   "cell_type": "code",
   "source": "df.columns",
   "id": "c1267cf3ddc8fca1",
   "outputs": [
    {
     "data": {
      "text/plain": [
       "Index(['Post_ID', 'Impressions', 'From Home', 'From Hashtags', 'From Explore',\n",
       "       'From Other', 'Saves', 'Comments', 'Shares', 'Likes', 'Profile Visits',\n",
       "       'Follows', 'Caption', 'Hashtags', 'Engagement_Rate', 'Home_ratio',\n",
       "       'Explore_ratio', 'Hashtag_ratio', 'Other_ratio', 'saves_to_likes',\n",
       "       'Caption_Length', 'Top_source'],\n",
       "      dtype='object')"
      ]
     },
     "execution_count": 33,
     "metadata": {},
     "output_type": "execute_result"
    }
   ],
   "execution_count": 33
  },
  {
   "metadata": {
    "ExecuteTime": {
     "end_time": "2025-09-09T16:07:59.054389Z",
     "start_time": "2025-09-09T16:07:59.034099Z"
    }
   },
   "cell_type": "code",
   "source": "df[df['Engagement_Rate'] == df['Engagement_Rate'].max()][['Post_ID','Caption']]",
   "id": "7768929f4d9df15d",
   "outputs": [
    {
     "data": {
      "text/plain": [
       "    Post_ID                                            Caption\n",
       "99       83  Here is a complete roadmap to data science tha..."
      ],
      "text/html": [
       "<div>\n",
       "<style scoped>\n",
       "    .dataframe tbody tr th:only-of-type {\n",
       "        vertical-align: middle;\n",
       "    }\n",
       "\n",
       "    .dataframe tbody tr th {\n",
       "        vertical-align: top;\n",
       "    }\n",
       "\n",
       "    .dataframe thead th {\n",
       "        text-align: right;\n",
       "    }\n",
       "</style>\n",
       "<table border=\"1\" class=\"dataframe\">\n",
       "  <thead>\n",
       "    <tr style=\"text-align: right;\">\n",
       "      <th></th>\n",
       "      <th>Post_ID</th>\n",
       "      <th>Caption</th>\n",
       "    </tr>\n",
       "  </thead>\n",
       "  <tbody>\n",
       "    <tr>\n",
       "      <th>99</th>\n",
       "      <td>83</td>\n",
       "      <td>Here is a complete roadmap to data science tha...</td>\n",
       "    </tr>\n",
       "  </tbody>\n",
       "</table>\n",
       "</div>"
      ]
     },
     "execution_count": 34,
     "metadata": {},
     "output_type": "execute_result"
    }
   ],
   "execution_count": 34
  },
  {
   "metadata": {},
   "cell_type": "markdown",
   "source": "##### Q12: Do posts with more saves also receive more likes?",
   "id": "8c49ed4a87d97ff3"
  },
  {
   "metadata": {
    "ExecuteTime": {
     "end_time": "2025-09-09T16:07:59.684219Z",
     "start_time": "2025-09-09T16:07:59.383960Z"
    }
   },
   "cell_type": "code",
   "source": [
    "sns.scatterplot(data = df, x = 'Saves',y='Likes')\n",
    "plt.show()"
   ],
   "id": "c4125e497a5101c8",
   "outputs": [
    {
     "data": {
      "text/plain": [
       "<Figure size 640x480 with 1 Axes>"
      ],
      "image/png": "[encoded data removed]"
     },
     "metadata": {},
     "output_type": "display_data"
    }
   ],
   "execution_count": 35
  },
  {
   "metadata": {
    "ExecuteTime": {
     "end_time": "2025-09-09T16:07:59.843310Z",
     "start_time": "2025-09-09T16:07:59.824294Z"
    }
   },
   "cell_type": "code",
   "source": "df[['Saves','Likes']].corr()",
   "id": "137c590d9f1b20cc",
   "outputs": [
    {
     "data": {
      "text/plain": [
       "          Saves     Likes\n",
       "Saves  1.000000  0.843395\n",
       "Likes  0.843395  1.000000"
      ],
      "text/html": [
       "<div>\n",
       "<style scoped>\n",
       "    .dataframe tbody tr th:only-of-type {\n",
       "        vertical-align: middle;\n",
       "    }\n",
       "\n",
       "    .dataframe tbody tr th {\n",
       "        vertical-align: top;\n",
       "    }\n",
       "\n",
       "    .dataframe thead th {\n",
       "        text-align: right;\n",
       "    }\n",
       "</style>\n",
       "<table border=\"1\" class=\"dataframe\">\n",
       "  <thead>\n",
       "    <tr style=\"text-align: right;\">\n",
       "      <th></th>\n",
       "      <th>Saves</th>\n",
       "      <th>Likes</th>\n",
       "    </tr>\n",
       "  </thead>\n",
       "  <tbody>\n",
       "    <tr>\n",
       "      <th>Saves</th>\n",
       "      <td>1.000000</td>\n",
       "      <td>0.843395</td>\n",
       "    </tr>\n",
       "    <tr>\n",
       "      <th>Likes</th>\n",
       "      <td>0.843395</td>\n",
       "      <td>1.000000</td>\n",
       "    </tr>\n",
       "  </tbody>\n",
       "</table>\n",
       "</div>"
      ]
     },
     "execution_count": 36,
     "metadata": {},
     "output_type": "execute_result"
    }
   ],
   "execution_count": 36
  },
  {
   "metadata": {
    "ExecuteTime": {
     "end_time": "2025-09-09T17:58:00.184096Z",
     "start_time": "2025-09-09T17:57:59.604770Z"
    }
   },
   "cell_type": "code",
   "source": [
    "sns.heatmap(df[['Saves','Likes']].corr(),annot = True)\n",
    "plt.show()"
   ],
   "id": "82ecc75ed1589760",
   "outputs": [
    {
     "data": {
      "text/plain": [
       "<Figure size 640x480 with 2 Axes>"
      ],
      "image/png": "[encoded data removed]"
     },
     "metadata": {},
     "output_type": "display_data"
    }
   ],
   "execution_count": 69
  },
  {
   "metadata": {},
   "cell_type": "markdown",
   "source": "##### as saves increase , likes increase",
   "id": "82fbbc1cd632c511"
  },
  {
   "metadata": {
    "ExecuteTime": {
     "end_time": "2025-09-09T16:30:14.070621Z",
     "start_time": "2025-09-09T16:30:10.857672Z"
    }
   },
   "cell_type": "code",
   "source": "df.columns",
   "id": "94ad442efea96f5f",
   "outputs": [
    {
     "data": {
      "text/plain": [
       "Index(['Post_ID', 'Impressions', 'From Home', 'From Hashtags', 'From Explore',\n",
       "       'From Other', 'Saves', 'Comments', 'Shares', 'Likes', 'Profile Visits',\n",
       "       'Follows', 'Caption', 'Hashtags', 'Engagement_Rate', 'Home_ratio',\n",
       "       'Explore_ratio', 'Hashtag_ratio', 'Other_ratio', 'saves_to_likes',\n",
       "       'Caption_Length', 'Top_source'],\n",
       "      dtype='object')"
      ]
     },
     "execution_count": 37,
     "metadata": {},
     "output_type": "execute_result"
    }
   ],
   "execution_count": 37
  },
  {
   "metadata": {},
   "cell_type": "markdown",
   "source": "##### Q13: What is the save-to-like ratio across posts? Which posts are most valuable?",
   "id": "9ca24d166916f540"
  },
  {
   "metadata": {
    "ExecuteTime": {
     "end_time": "2025-09-09T16:34:12.220254Z",
     "start_time": "2025-09-09T16:34:12.209524Z"
    }
   },
   "cell_type": "code",
   "source": [
    "x = df.sort_values(\"saves_to_likes\", ascending = False)\n",
    "x['saves_to_likes']"
   ],
   "id": "524d1409cdeb853d",
   "outputs": [
    {
     "data": {
      "text/plain": [
       "49     20.365854\n",
       "117    19.945355\n",
       "108    18.835341\n",
       "109    16.363636\n",
       "64     15.650558\n",
       "         ...    \n",
       "71      3.437500\n",
       "14      3.401361\n",
       "50      3.333333\n",
       "2       3.129771\n",
       "6       2.894737\n",
       "Name: saves_to_likes, Length: 102, dtype: float64"
      ]
     },
     "execution_count": 43,
     "metadata": {},
     "output_type": "execute_result"
    }
   ],
   "execution_count": 43
  },
  {
   "metadata": {
    "ExecuteTime": {
     "end_time": "2025-09-09T16:35:18.654739Z",
     "start_time": "2025-09-09T16:35:18.619522Z"
    }
   },
   "cell_type": "code",
   "source": "df[df['saves_to_likes'] == df['saves_to_likes'].max()][['Post_ID','Caption']]",
   "id": "5a714a8c30ed614a",
   "outputs": [
    {
     "data": {
      "text/plain": [
       "    Post_ID                                            Caption\n",
       "49       50  Here are some of the best websites that you ca..."
      ],
      "text/html": [
       "<div>\n",
       "<style scoped>\n",
       "    .dataframe tbody tr th:only-of-type {\n",
       "        vertical-align: middle;\n",
       "    }\n",
       "\n",
       "    .dataframe tbody tr th {\n",
       "        vertical-align: top;\n",
       "    }\n",
       "\n",
       "    .dataframe thead th {\n",
       "        text-align: right;\n",
       "    }\n",
       "</style>\n",
       "<table border=\"1\" class=\"dataframe\">\n",
       "  <thead>\n",
       "    <tr style=\"text-align: right;\">\n",
       "      <th></th>\n",
       "      <th>Post_ID</th>\n",
       "      <th>Caption</th>\n",
       "    </tr>\n",
       "  </thead>\n",
       "  <tbody>\n",
       "    <tr>\n",
       "      <th>49</th>\n",
       "      <td>50</td>\n",
       "      <td>Here are some of the best websites that you ca...</td>\n",
       "    </tr>\n",
       "  </tbody>\n",
       "</table>\n",
       "</div>"
      ]
     },
     "execution_count": 46,
     "metadata": {},
     "output_type": "execute_result"
    }
   ],
   "execution_count": 46
  },
  {
   "metadata": {},
   "cell_type": "code",
   "source": "df.columns",
   "id": "30d71aa813cd64f1",
   "outputs": [
    {
     "data": {
      "text/plain": [
       "Index(['Post_ID', 'Impressions', 'From Home', 'From Hashtags', 'From Explore',\n",
       "       'From Other', 'Saves', 'Comments', 'Shares', 'Likes', 'Profile Visits',\n",
       "       'Follows', 'Caption', 'Hashtags', 'Engagement_Rate', 'Home_ratio',\n",
       "       'Explore_ratio', 'Hashtag_ratio', 'Other_ratio', 'saves_to_likes',\n",
       "       'Caption_Length', 'Top_source'],\n",
       "      dtype='object')"
      ]
     },
     "execution_count": 47,
     "metadata": {},
     "output_type": "execute_result"
    }
   ],
   "execution_count": 47
  },
  {
   "metadata": {},
   "cell_type": "markdown",
   "source": "##### post wit id 50 has highest saves_to_likes ratio which means it is educational content so more people saves it\n",
   "id": "23dfb6136bad0b5a"
  },
  {
   "metadata": {},
   "cell_type": "markdown",
   "source": "##### Q14: Do more shares lead to more profile visits and follows?",
   "id": "dd5b9fd19d07fcc7"
  },
  {
   "metadata": {
    "ExecuteTime": {
     "end_time": "2025-09-09T16:45:00.022512Z",
     "start_time": "2025-09-09T16:44:59.432512Z"
    }
   },
   "cell_type": "code",
   "source": [
    "sns.scatterplot(data =df,x= 'Shares',y='Profile Visits')\n",
    "plt.show()"
   ],
   "id": "6db7f007dcd4ca48",
   "outputs": [
    {
     "data": {
      "text/plain": [
       "<Figure size 640x480 with 1 Axes>"
      ],
      "image/png": "[encoded data removed]"
     },
     "metadata": {},
     "output_type": "display_data"
    }
   ],
   "execution_count": 48
  },
  {
   "metadata": {
    "ExecuteTime": {
     "end_time": "2025-09-09T16:46:59.234828Z",
     "start_time": "2025-09-09T16:46:59.207003Z"
    }
   },
   "cell_type": "code",
   "source": "df[['Profile Visits','Shares']].corr()",
   "id": "4c9c136ec6497ced",
   "outputs": [
    {
     "data": {
      "text/plain": [
       "                Profile Visits   Shares\n",
       "Profile Visits         1.00000  0.26546\n",
       "Shares                 0.26546  1.00000"
      ],
      "text/html": [
       "<div>\n",
       "<style scoped>\n",
       "    .dataframe tbody tr th:only-of-type {\n",
       "        vertical-align: middle;\n",
       "    }\n",
       "\n",
       "    .dataframe tbody tr th {\n",
       "        vertical-align: top;\n",
       "    }\n",
       "\n",
       "    .dataframe thead th {\n",
       "        text-align: right;\n",
       "    }\n",
       "</style>\n",
       "<table border=\"1\" class=\"dataframe\">\n",
       "  <thead>\n",
       "    <tr style=\"text-align: right;\">\n",
       "      <th></th>\n",
       "      <th>Profile Visits</th>\n",
       "      <th>Shares</th>\n",
       "    </tr>\n",
       "  </thead>\n",
       "  <tbody>\n",
       "    <tr>\n",
       "      <th>Profile Visits</th>\n",
       "      <td>1.00000</td>\n",
       "      <td>0.26546</td>\n",
       "    </tr>\n",
       "    <tr>\n",
       "      <th>Shares</th>\n",
       "      <td>0.26546</td>\n",
       "      <td>1.00000</td>\n",
       "    </tr>\n",
       "  </tbody>\n",
       "</table>\n",
       "</div>"
      ]
     },
     "execution_count": 50,
     "metadata": {},
     "output_type": "execute_result"
    }
   ],
   "execution_count": 50
  },
  {
   "metadata": {
    "ExecuteTime": {
     "end_time": "2025-09-09T17:58:53.820266Z",
     "start_time": "2025-09-09T17:58:53.506487Z"
    }
   },
   "cell_type": "code",
   "source": [
    "sns.heatmap(df[['Profile Visits','Shares']].corr(),annot = True)\n",
    "plt.show()"
   ],
   "id": "99406bffd259fe1f",
   "outputs": [
    {
     "data": {
      "text/plain": [
       "<Figure size 640x480 with 2 Axes>"
      ],
      "image/png": "[encoded data removed]"
     },
     "metadata": {},
     "output_type": "display_data"
    }
   ],
   "execution_count": 71
  },
  {
   "metadata": {},
   "cell_type": "markdown",
   "source": "###### Profile Visits isn't affected by Shares",
   "id": "8dac3306e1f3c43a"
  },
  {
   "metadata": {
    "ExecuteTime": {
     "end_time": "2025-09-09T16:47:38.331814Z",
     "start_time": "2025-09-09T16:47:38.031237Z"
    }
   },
   "cell_type": "code",
   "source": [
    "sns.scatterplot(data =df,x= 'Shares',y='Follows')\n",
    "plt.show()"
   ],
   "id": "c00c2ec6916755fc",
   "outputs": [
    {
     "data": {
      "text/plain": [
       "<Figure size 640x480 with 1 Axes>"
      ],
      "image/png": "[encoded data removed]"
     },
     "metadata": {},
     "output_type": "display_data"
    }
   ],
   "execution_count": 51
  },
  {
   "metadata": {
    "ExecuteTime": {
     "end_time": "2025-09-09T16:48:06.044408Z",
     "start_time": "2025-09-09T16:48:06.031202Z"
    }
   },
   "cell_type": "code",
   "source": "df[['Shares','Follows']].corr()",
   "id": "e71479892838c3bd",
   "outputs": [
    {
     "data": {
      "text/plain": [
       "           Shares   Follows\n",
       "Shares   1.000000  0.517278\n",
       "Follows  0.517278  1.000000"
      ],
      "text/html": [
       "<div>\n",
       "<style scoped>\n",
       "    .dataframe tbody tr th:only-of-type {\n",
       "        vertical-align: middle;\n",
       "    }\n",
       "\n",
       "    .dataframe tbody tr th {\n",
       "        vertical-align: top;\n",
       "    }\n",
       "\n",
       "    .dataframe thead th {\n",
       "        text-align: right;\n",
       "    }\n",
       "</style>\n",
       "<table border=\"1\" class=\"dataframe\">\n",
       "  <thead>\n",
       "    <tr style=\"text-align: right;\">\n",
       "      <th></th>\n",
       "      <th>Shares</th>\n",
       "      <th>Follows</th>\n",
       "    </tr>\n",
       "  </thead>\n",
       "  <tbody>\n",
       "    <tr>\n",
       "      <th>Shares</th>\n",
       "      <td>1.000000</td>\n",
       "      <td>0.517278</td>\n",
       "    </tr>\n",
       "    <tr>\n",
       "      <th>Follows</th>\n",
       "      <td>0.517278</td>\n",
       "      <td>1.000000</td>\n",
       "    </tr>\n",
       "  </tbody>\n",
       "</table>\n",
       "</div>"
      ]
     },
     "execution_count": 52,
     "metadata": {},
     "output_type": "execute_result"
    }
   ],
   "execution_count": 52
  },
  {
   "metadata": {
    "ExecuteTime": {
     "end_time": "2025-09-09T17:59:36.998233Z",
     "start_time": "2025-09-09T17:59:36.639857Z"
    }
   },
   "cell_type": "code",
   "source": [
    "sns.heatmap(df[['Shares','Follows']].corr(),annot = True)\n",
    "plt.show()"
   ],
   "id": "ba94b0fb9f66e3de",
   "outputs": [
    {
     "data": {
      "text/plain": [
       "<Figure size 640x480 with 2 Axes>"
      ],
      "image/png": "[encoded data removed]"
     },
     "metadata": {},
     "output_type": "display_data"
    }
   ],
   "execution_count": 72
  },
  {
   "metadata": {},
   "cell_type": "markdown",
   "source": "##### as shares increase follows increase",
   "id": "3f4b04d250a3a349"
  },
  {
   "metadata": {},
   "cell_type": "markdown",
   "source": "##### Q15: Does caption length (short vs long) affect likes?",
   "id": "5415aabf64fef6b5"
  },
  {
   "metadata": {
    "ExecuteTime": {
     "end_time": "2025-09-09T16:51:51.951209Z",
     "start_time": "2025-09-09T16:51:51.037410Z"
    }
   },
   "cell_type": "code",
   "source": [
    "sns.scatterplot(data =df,x = 'Caption_Length',y='Likes')\n",
    "plt.show()"
   ],
   "id": "bccbc1dd6850117",
   "outputs": [
    {
     "data": {
      "text/plain": [
       "<Figure size 640x480 with 1 Axes>"
      ],
      "image/png": "[encoded data removed]"
     },
     "metadata": {},
     "output_type": "display_data"
    }
   ],
   "execution_count": 53
  },
  {
   "metadata": {
    "ExecuteTime": {
     "end_time": "2025-09-09T16:52:05.715826Z",
     "start_time": "2025-09-09T16:52:05.605274Z"
    }
   },
   "cell_type": "code",
   "source": "df[['Caption_Length','Likes']].corr()",
   "id": "9411b6769f1c866a",
   "outputs": [
    {
     "data": {
      "text/plain": [
       "                Caption_Length     Likes\n",
       "Caption_Length        1.000000 -0.157874\n",
       "Likes                -0.157874  1.000000"
      ],
      "text/html": [
       "<div>\n",
       "<style scoped>\n",
       "    .dataframe tbody tr th:only-of-type {\n",
       "        vertical-align: middle;\n",
       "    }\n",
       "\n",
       "    .dataframe tbody tr th {\n",
       "        vertical-align: top;\n",
       "    }\n",
       "\n",
       "    .dataframe thead th {\n",
       "        text-align: right;\n",
       "    }\n",
       "</style>\n",
       "<table border=\"1\" class=\"dataframe\">\n",
       "  <thead>\n",
       "    <tr style=\"text-align: right;\">\n",
       "      <th></th>\n",
       "      <th>Caption_Length</th>\n",
       "      <th>Likes</th>\n",
       "    </tr>\n",
       "  </thead>\n",
       "  <tbody>\n",
       "    <tr>\n",
       "      <th>Caption_Length</th>\n",
       "      <td>1.000000</td>\n",
       "      <td>-0.157874</td>\n",
       "    </tr>\n",
       "    <tr>\n",
       "      <th>Likes</th>\n",
       "      <td>-0.157874</td>\n",
       "      <td>1.000000</td>\n",
       "    </tr>\n",
       "  </tbody>\n",
       "</table>\n",
       "</div>"
      ]
     },
     "execution_count": 54,
     "metadata": {},
     "output_type": "execute_result"
    }
   ],
   "execution_count": 54
  },
  {
   "metadata": {
    "ExecuteTime": {
     "end_time": "2025-09-09T18:00:16.446233Z",
     "start_time": "2025-09-09T18:00:16.136378Z"
    }
   },
   "cell_type": "code",
   "source": [
    "sns.heatmap(df[['Caption_Length','Likes']].corr(),annot = True)\n",
    "plt.show()"
   ],
   "id": "6b8b9a869fda46c3",
   "outputs": [
    {
     "data": {
      "text/plain": [
       "<Figure size 640x480 with 2 Axes>"
      ],
      "image/png": "[encoded data removed]"
     },
     "metadata": {},
     "output_type": "display_data"
    }
   ],
   "execution_count": 74
  },
  {
   "metadata": {},
   "cell_type": "markdown",
   "source": "##### there is no relation between Caption_Length , Likes",
   "id": "2372c6d970642dbe"
  },
  {
   "metadata": {},
   "cell_type": "markdown",
   "source": "##### Q16: Does impressions affect engagement rate?",
   "id": "b888bece394a9e86"
  },
  {
   "metadata": {
    "ExecuteTime": {
     "end_time": "2025-09-09T17:26:46.505801Z",
     "start_time": "2025-09-09T17:26:45.183296Z"
    }
   },
   "cell_type": "code",
   "source": [
    "sns.scatterplot(data = df, x = 'Impressions',y='Engagement_Rate')\n",
    "plt.show()"
   ],
   "id": "5dd4ef9fc2490e4b",
   "outputs": [
    {
     "data": {
      "text/plain": [
       "<Figure size 640x480 with 1 Axes>"
      ],
      "image/png": "[encoded data removed]"
     },
     "metadata": {},
     "output_type": "display_data"
    }
   ],
   "execution_count": 58
  },
  {
   "metadata": {
    "ExecuteTime": {
     "end_time": "2025-09-09T17:27:12.315313Z",
     "start_time": "2025-09-09T17:27:12.265867Z"
    }
   },
   "cell_type": "code",
   "source": "df[['Impressions','Engagement_Rate']].corr()",
   "id": "1ae5e1bd0462ac7e",
   "outputs": [
    {
     "data": {
      "text/plain": [
       "                 Impressions  Engagement_Rate\n",
       "Impressions         1.000000        -0.240337\n",
       "Engagement_Rate    -0.240337         1.000000"
      ],
      "text/html": [
       "<div>\n",
       "<style scoped>\n",
       "    .dataframe tbody tr th:only-of-type {\n",
       "        vertical-align: middle;\n",
       "    }\n",
       "\n",
       "    .dataframe tbody tr th {\n",
       "        vertical-align: top;\n",
       "    }\n",
       "\n",
       "    .dataframe thead th {\n",
       "        text-align: right;\n",
       "    }\n",
       "</style>\n",
       "<table border=\"1\" class=\"dataframe\">\n",
       "  <thead>\n",
       "    <tr style=\"text-align: right;\">\n",
       "      <th></th>\n",
       "      <th>Impressions</th>\n",
       "      <th>Engagement_Rate</th>\n",
       "    </tr>\n",
       "  </thead>\n",
       "  <tbody>\n",
       "    <tr>\n",
       "      <th>Impressions</th>\n",
       "      <td>1.000000</td>\n",
       "      <td>-0.240337</td>\n",
       "    </tr>\n",
       "    <tr>\n",
       "      <th>Engagement_Rate</th>\n",
       "      <td>-0.240337</td>\n",
       "      <td>1.000000</td>\n",
       "    </tr>\n",
       "  </tbody>\n",
       "</table>\n",
       "</div>"
      ]
     },
     "execution_count": 59,
     "metadata": {},
     "output_type": "execute_result"
    }
   ],
   "execution_count": 59
  },
  {
   "metadata": {
    "ExecuteTime": {
     "end_time": "2025-09-09T18:01:42.904339Z",
     "start_time": "2025-09-09T18:01:42.197235Z"
    }
   },
   "cell_type": "code",
   "source": [
    "sns.heatmap(df[['Impressions','Engagement_Rate']].corr(),annot = True)\n",
    "plt.show()"
   ],
   "id": "9afed79ebd7c8f7e",
   "outputs": [
    {
     "data": {
      "text/plain": [
       "<Figure size 640x480 with 2 Axes>"
      ],
      "image/png": "[encoded data removed]"
     },
     "metadata": {},
     "output_type": "display_data"
    }
   ],
   "execution_count": 75
  },
  {
   "metadata": {},
   "cell_type": "markdown",
   "source": "##### Impressions somehow has no relation with engagement rate",
   "id": "d9d889a235393cf1"
  },
  {
   "metadata": {},
   "cell_type": "markdown",
   "source": "##### Q17: Can we predict likes based on impressions, saves, shares, profile visits?",
   "id": "c7ee9e8a4e001be7"
  },
  {
   "metadata": {
    "ExecuteTime": {
     "end_time": "2025-09-09T17:40:17.785509Z",
     "start_time": "2025-09-09T17:40:13.020109Z"
    }
   },
   "cell_type": "code",
   "source": "df[['Likes','Impressions','Saves','Shares','Profile Visits']].corr()",
   "id": "d27fe9f45dee41b6",
   "outputs": [
    {
     "data": {
      "text/plain": [
       "                   Likes  Impressions     Saves    Shares  Profile Visits\n",
       "Likes           1.000000     0.852952  0.843395  0.718790        0.642658\n",
       "Impressions     0.852952     1.000000  0.791448  0.654920        0.762679\n",
       "Saves           0.843395     0.791448  1.000000  0.874004        0.377424\n",
       "Shares          0.718790     0.654920  0.874004  1.000000        0.265460\n",
       "Profile Visits  0.642658     0.762679  0.377424  0.265460        1.000000"
      ],
      "text/html": [
       "<div>\n",
       "<style scoped>\n",
       "    .dataframe tbody tr th:only-of-type {\n",
       "        vertical-align: middle;\n",
       "    }\n",
       "\n",
       "    .dataframe tbody tr th {\n",
       "        vertical-align: top;\n",
       "    }\n",
       "\n",
       "    .dataframe thead th {\n",
       "        text-align: right;\n",
       "    }\n",
       "</style>\n",
       "<table border=\"1\" class=\"dataframe\">\n",
       "  <thead>\n",
       "    <tr style=\"text-align: right;\">\n",
       "      <th></th>\n",
       "      <th>Likes</th>\n",
       "      <th>Impressions</th>\n",
       "      <th>Saves</th>\n",
       "      <th>Shares</th>\n",
       "      <th>Profile Visits</th>\n",
       "    </tr>\n",
       "  </thead>\n",
       "  <tbody>\n",
       "    <tr>\n",
       "      <th>Likes</th>\n",
       "      <td>1.000000</td>\n",
       "      <td>0.852952</td>\n",
       "      <td>0.843395</td>\n",
       "      <td>0.718790</td>\n",
       "      <td>0.642658</td>\n",
       "    </tr>\n",
       "    <tr>\n",
       "      <th>Impressions</th>\n",
       "      <td>0.852952</td>\n",
       "      <td>1.000000</td>\n",
       "      <td>0.791448</td>\n",
       "      <td>0.654920</td>\n",
       "      <td>0.762679</td>\n",
       "    </tr>\n",
       "    <tr>\n",
       "      <th>Saves</th>\n",
       "      <td>0.843395</td>\n",
       "      <td>0.791448</td>\n",
       "      <td>1.000000</td>\n",
       "      <td>0.874004</td>\n",
       "      <td>0.377424</td>\n",
       "    </tr>\n",
       "    <tr>\n",
       "      <th>Shares</th>\n",
       "      <td>0.718790</td>\n",
       "      <td>0.654920</td>\n",
       "      <td>0.874004</td>\n",
       "      <td>1.000000</td>\n",
       "      <td>0.265460</td>\n",
       "    </tr>\n",
       "    <tr>\n",
       "      <th>Profile Visits</th>\n",
       "      <td>0.642658</td>\n",
       "      <td>0.762679</td>\n",
       "      <td>0.377424</td>\n",
       "      <td>0.265460</td>\n",
       "      <td>1.000000</td>\n",
       "    </tr>\n",
       "  </tbody>\n",
       "</table>\n",
       "</div>"
      ]
     },
     "execution_count": 60,
     "metadata": {},
     "output_type": "execute_result"
    }
   ],
   "execution_count": 60
  },
  {
   "metadata": {
    "ExecuteTime": {
     "end_time": "2025-09-09T18:02:41.526583Z",
     "start_time": "2025-09-09T18:02:25.638592Z"
    }
   },
   "cell_type": "code",
   "source": [
    "sns.heatmap(df[['Likes','Impressions','Saves','Shares','Profile Visits']].corr(),annot = True)\n",
    "plt.show()"
   ],
   "id": "7347b2f83650d70c",
   "outputs": [
    {
     "data": {
      "text/plain": [
       "<Figure size 640x480 with 2 Axes>"
      ],
      "image/png": "[encoded data removed]"
     },
     "metadata": {},
     "output_type": "display_data"
    }
   ],
   "execution_count": 77
  },
  {
   "metadata": {},
   "cell_type": "markdown",
   "source": "##### Impressions affects Likes the most",
   "id": "eb1631bb4929c4d2"
  },
  {
   "metadata": {},
   "cell_type": "markdown",
   "source": [
    "#  Conclusion\n",
    "\n",
    "Based on the analysis of **Instagram posts**, the following insights were observed:\n",
    "\n",
    "1. Posts with higher **impressions** usually receive more **likes**.\n",
    "2. **Saves** are strongly correlated with likes, meaning valuable content tends to be saved more.\n",
    "3. **Shares** do not lead to more profile visits but slightly increase follows.\n",
    "4. **Caption length**  show little effect on likes.\n",
    "5. **Home** is the main contributor of impressions.\n",
    "\n",
    "---\n",
    "\n",
    "#  Key Takeaways\n",
    "\n",
    "- **Impressions** are the strongest predictor of likes.\n",
    "- Posts with high **save-to-like ratio** are usually educational or high-value content.\n",
    "- **Profile Visits → Follows** shows a strong conversion relationship.\n",
    "- **Engagement Rate** is independent of impressions.\n",
    "- Optimizing caption length is less critical than focusing on impressions and saves.\n",
    "\n",
    "---\n",
    "\n",
    "#  Recommendations\n",
    "\n",
    "- Create content that maximizes **impressions**.\n",
    "- Encourage users to **save posts** .\n",
    "- Use **shares** strategically to drive new and more followers.\n",
    "- Optimize for **Explore visibility** but don’t rely on it entirely.\n",
    "- Focus less on caption length, more on **content quality and engagement**.\n"
   ],
   "id": "357cf6b7764ecf2d"
  }
 ],
 "metadata": {
  "kernelspec": {
   "display_name": "Python 3",
   "language": "python",
   "name": "python3"
  },
  "language_info": {
   "codemirror_mode": {
    "name": "ipython",
    "version": 2
   },
   "file_extension": ".py",
   "mimetype": "text/x-python",
   "name": "python",
   "nbconvert_exporter": "python",
   "pygments_lexer": "ipython2",
   "version": "2.7.6"
  }
 },
 "nbformat": 4,
 "nbformat_minor": 5
}
